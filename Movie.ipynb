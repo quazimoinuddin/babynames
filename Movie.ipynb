{
 "cells": [
  {
   "cell_type": "code",
   "execution_count": 1,
   "metadata": {
    "collapsed": true
   },
   "outputs": [],
   "source": [
    "import pyspark"
   ]
  },
  {
   "cell_type": "code",
   "execution_count": 2,
   "metadata": {
    "collapsed": true
   },
   "outputs": [],
   "source": [
    "from pyspark import SparkContext\n",
    "from pyspark.sql import SQLContext"
   ]
  },
  {
   "cell_type": "code",
   "execution_count": 3,
   "metadata": {
    "scrolled": true
   },
   "outputs": [
    {
     "data": {
      "text/html": [
       "\n",
       "        <div>\n",
       "            <p><b>SparkContext</b></p>\n",
       "\n",
       "            <p><a href=\"http://192.168.0.113:4041\">Spark UI</a></p>\n",
       "\n",
       "            <dl>\n",
       "              <dt>Version</dt>\n",
       "                <dd><code>v2.3.2</code></dd>\n",
       "              <dt>Master</dt>\n",
       "                <dd><code>local[*]</code></dd>\n",
       "              <dt>AppName</dt>\n",
       "                <dd><code>pyspark-shell</code></dd>\n",
       "            </dl>\n",
       "        </div>\n",
       "        "
      ],
      "text/plain": [
       "<SparkContext master=local[*] appName=pyspark-shell>"
      ]
     },
     "execution_count": 3,
     "metadata": {},
     "output_type": "execute_result"
    }
   ],
   "source": [
    "sc = SparkContext()\n",
    "sc"
   ]
  },
  {
   "cell_type": "code",
   "execution_count": 4,
   "metadata": {
    "collapsed": true
   },
   "outputs": [],
   "source": [
    "from pyspark.sql import SparkSession\n",
    "\n",
    "spark = SparkSession \\\n",
    "        .builder \\\n",
    "        .appName(\"Analyzing Movies Dataset\") \\\n",
    "        .getOrCreate()"
   ]
  },
  {
   "cell_type": "markdown",
   "metadata": {},
   "source": [
    "#### Load the dataset"
   ]
  },
  {
   "cell_type": "markdown",
   "metadata": {},
   "source": [
    "Both datasets have been sourced from https://www.kaggle.com/rounakbanik/the-movies-dataset. <br />\n",
    "The first file (ratings.csv) contains 26 million ratings from 270,000 users on all the 45,000 movies but here we are considering only 2 million ratings for this demo. <br />\n",
    "The second file (movies_metadata.csv) includes information about budget, revenue, release dates, languages, production countries etc. for each movie."
   ]
  },
  {
   "cell_type": "code",
   "execution_count": 5,
   "metadata": {
    "collapsed": true
   },
   "outputs": [],
   "source": [
    "movie_ratings = spark.read\\\n",
    "               .format(\"csv\")\\\n",
    "               .option(\"sep\", \",\")\\\n",
    "               .option(\"header\", \"true\")\\\n",
    "               .load(\"../datasets/ratings.csv\")"
   ]
  },
  {
   "cell_type": "code",
   "execution_count": 6,
   "metadata": {},
   "outputs": [
    {
     "name": "stdout",
     "output_type": "stream",
     "text": [
      "root\n",
      " |-- userId: string (nullable = true)\n",
      " |-- movieId: string (nullable = true)\n",
      " |-- rating: string (nullable = true)\n",
      " |-- timestamp: string (nullable = true)\n",
      "\n"
     ]
    }
   ],
   "source": [
    "movie_ratings.printSchema()"
   ]
  },
  {
   "cell_type": "code",
   "execution_count": 7,
   "metadata": {
    "collapsed": true
   },
   "outputs": [],
   "source": [
    "movie_metadata = spark.read\\\n",
    "                         .format(\"csv\")\\\n",
    "                         .option(\"sep\", \",\")\\\n",
    "                         .option(\"header\", \"true\")\\\n",
    "                         .load(\"../datasets/movies_metadata.csv\")"
   ]
  },
  {
   "cell_type": "code",
   "execution_count": 8,
   "metadata": {},
   "outputs": [
    {
     "name": "stdout",
     "output_type": "stream",
     "text": [
      "root\n",
      " |-- adult: string (nullable = true)\n",
      " |-- belongs_to_collection: string (nullable = true)\n",
      " |-- budget: string (nullable = true)\n",
      " |-- genres: string (nullable = true)\n",
      " |-- homepage: string (nullable = true)\n",
      " |-- id: string (nullable = true)\n",
      " |-- imdb_id: string (nullable = true)\n",
      " |-- original_language: string (nullable = true)\n",
      " |-- original_title: string (nullable = true)\n",
      " |-- overview: string (nullable = true)\n",
      " |-- popularity: string (nullable = true)\n",
      " |-- poster_path: string (nullable = true)\n",
      " |-- production_companies: string (nullable = true)\n",
      " |-- production_countries: string (nullable = true)\n",
      " |-- release_date: string (nullable = true)\n",
      " |-- revenue: string (nullable = true)\n",
      " |-- runtime: string (nullable = true)\n",
      " |-- spoken_languages: string (nullable = true)\n",
      " |-- status: string (nullable = true)\n",
      " |-- tagline: string (nullable = true)\n",
      " |-- title: string (nullable = true)\n",
      " |-- video: string (nullable = true)\n",
      " |-- vote_average: string (nullable = true)\n",
      " |-- vote_count: string (nullable = true)\n",
      "\n"
     ]
    }
   ],
   "source": [
    "movie_metadata.printSchema()"
   ]
  },
  {
   "cell_type": "code",
   "execution_count": 9,
   "metadata": {},
   "outputs": [
    {
     "data": {
      "text/plain": [
       "(1999999, 45572)"
      ]
     },
     "execution_count": 9,
     "metadata": {},
     "output_type": "execute_result"
    }
   ],
   "source": [
    "movie_ratings.count(),movie_metadata.count()"
   ]
  },
  {
   "cell_type": "markdown",
   "metadata": {},
   "source": [
    "#### Distinct number of Id"
   ]
  },
  {
   "cell_type": "code",
   "execution_count": 10,
   "metadata": {},
   "outputs": [
    {
     "data": {
      "text/plain": [
       "45470"
      ]
     },
     "execution_count": 10,
     "metadata": {},
     "output_type": "execute_result"
    }
   ],
   "source": [
    "movie_metadata.select('id')\\\n",
    "                 .distinct()\\\n",
    "                 .count()"
   ]
  },
  {
   "cell_type": "markdown",
   "metadata": {},
   "source": [
    "#### Drop columns which are not necessary for our analysis"
   ]
  },
  {
   "cell_type": "code",
   "execution_count": 11,
   "metadata": {},
   "outputs": [
    {
     "data": {
      "text/plain": [
       "DataFrame[adult: string, budget: string, id: string, original_language: string, original_title: string, popularity: string, release_date: string, revenue: string, runtime: string, status: string, title: string, video: string, vote_average: string, vote_count: string]"
      ]
     },
     "execution_count": 11,
     "metadata": {},
     "output_type": "execute_result"
    }
   ],
   "source": [
    "movie_metadata = movie_metadata.drop(\n",
    "                        'belongs_to_collection', \n",
    "                        'genres',\n",
    "                        'homepage',\n",
    "                        'imdb_id',\n",
    "                        'overview',\n",
    "                        'poster_path',\n",
    "                        'production_companies',\n",
    "                        'production_countries',\n",
    "                        'spoken_languages',\n",
    "                        'tagline')\n",
    "movie_metadata"
   ]
  },
  {
   "cell_type": "markdown",
   "metadata": {},
   "source": [
    "#### View the schema of the dataframes\n",
    "Though many numeric columns are currently formatted as strings, we'll adjust their types when we need to later on"
   ]
  },
  {
   "cell_type": "code",
   "execution_count": 12,
   "metadata": {},
   "outputs": [
    {
     "name": "stdout",
     "output_type": "stream",
     "text": [
      "root\n",
      " |-- adult: string (nullable = true)\n",
      " |-- budget: string (nullable = true)\n",
      " |-- id: string (nullable = true)\n",
      " |-- original_language: string (nullable = true)\n",
      " |-- original_title: string (nullable = true)\n",
      " |-- popularity: string (nullable = true)\n",
      " |-- release_date: string (nullable = true)\n",
      " |-- revenue: string (nullable = true)\n",
      " |-- runtime: string (nullable = true)\n",
      " |-- status: string (nullable = true)\n",
      " |-- title: string (nullable = true)\n",
      " |-- video: string (nullable = true)\n",
      " |-- vote_average: string (nullable = true)\n",
      " |-- vote_count: string (nullable = true)\n",
      "\n"
     ]
    }
   ],
   "source": [
    "movie_metadata.printSchema()"
   ]
  },
  {
   "cell_type": "markdown",
   "metadata": {},
   "source": [
    "#### Drop the invalid data from the dataframes"
   ]
  },
  {
   "cell_type": "code",
   "execution_count": 13,
   "metadata": {
    "collapsed": true
   },
   "outputs": [],
   "source": [
    "movie_metadata = movie_metadata.dropna()\n",
    "movie_ratings = movie_ratings.dropna()"
   ]
  },
  {
   "cell_type": "markdown",
   "metadata": {},
   "source": [
    "#### The size of movie_metadata has reduced"
   ]
  },
  {
   "cell_type": "code",
   "execution_count": 14,
   "metadata": {},
   "outputs": [
    {
     "data": {
      "text/plain": [
       "(1999999, 43492)"
      ]
     },
     "execution_count": 14,
     "metadata": {},
     "output_type": "execute_result"
    }
   ],
   "source": [
    "movie_ratings.count(),movie_metadata.count()"
   ]
  },
  {
   "cell_type": "markdown",
   "metadata": {},
   "source": [
    "#### Cast the numeric columns as float\n",
    "These are currently strings"
   ]
  },
  {
   "cell_type": "code",
   "execution_count": 15,
   "metadata": {},
   "outputs": [
    {
     "name": "stdout",
     "output_type": "stream",
     "text": [
      "root\n",
      " |-- adult: string (nullable = true)\n",
      " |-- budget: float (nullable = true)\n",
      " |-- id: string (nullable = true)\n",
      " |-- original_language: string (nullable = true)\n",
      " |-- original_title: string (nullable = true)\n",
      " |-- popularity: float (nullable = true)\n",
      " |-- release_date: string (nullable = true)\n",
      " |-- revenue: float (nullable = true)\n",
      " |-- runtime: string (nullable = true)\n",
      " |-- status: string (nullable = true)\n",
      " |-- title: string (nullable = true)\n",
      " |-- video: string (nullable = true)\n",
      " |-- vote_average: float (nullable = true)\n",
      " |-- vote_count: string (nullable = true)\n",
      "\n"
     ]
    }
   ],
   "source": [
    "for col_name in [\"budget\", \"revenue\", \"vote_average\", \"popularity\"]:\n",
    "    movie_metadata = movie_metadata.withColumn(col_name, \n",
    "                                               movie_metadata[col_name].cast(\"float\"))\n",
    "    \n",
    "movie_metadata.printSchema()"
   ]
  },
  {
   "cell_type": "markdown",
   "metadata": {},
   "source": [
    "#### We are interested in positive budget and revenue values"
   ]
  },
  {
   "cell_type": "code",
   "execution_count": 16,
   "metadata": {
    "collapsed": true
   },
   "outputs": [],
   "source": [
    "movie_metadata = movie_metadata[(movie_metadata.budget > 0) \\\n",
    "                                & (movie_metadata.revenue > 0)]"
   ]
  },
  {
   "cell_type": "code",
   "execution_count": 17,
   "metadata": {},
   "outputs": [
    {
     "data": {
      "text/plain": [
       "4981"
      ]
     },
     "execution_count": 17,
     "metadata": {},
     "output_type": "execute_result"
    }
   ],
   "source": [
    "movie_metadata.count()"
   ]
  },
  {
   "cell_type": "code",
   "execution_count": 18,
   "metadata": {},
   "outputs": [
    {
     "name": "stdout",
     "output_type": "stream",
     "text": [
      "+---------+------------+\n",
      "|   budget|     revenue|\n",
      "+---------+------------+\n",
      "|    3.0E7|3.73554048E8|\n",
      "|    6.5E7|2.62797248E8|\n",
      "|    6.0E7|1.87436816E8|\n",
      "|    3.5E7| 6.4350172E7|\n",
      "|    5.8E7|3.52194048E8|\n",
      "|    6.2E7|1.07879496E8|\n",
      "|    4.4E7| 1.3681765E7|\n",
      "|    9.8E7| 1.0017322E7|\n",
      "|    5.2E7|1.16112376E8|\n",
      "|   1.65E7|      1.35E8|\n",
      "|4000000.0|   4300000.0|\n",
      "|    3.0E7|2.12385536E8|\n",
      "|    6.0E7| 3.5431112E7|\n",
      "|    5.0E7| 3.0303072E7|\n",
      "|3600000.0|      4.98E7|\n",
      "|    1.2E7|      2.74E7|\n",
      "|   2.95E7|    1.6884E8|\n",
      "|    3.0E7|2.54134912E8|\n",
      "|    1.1E7| 3.9363636E7|\n",
      "|    1.8E7| 1.2219592E8|\n",
      "+---------+------------+\n",
      "only showing top 20 rows\n",
      "\n"
     ]
    }
   ],
   "source": [
    "movie_metadata.select(\"budget\", \"revenue\").show()"
   ]
  },
  {
   "cell_type": "code",
   "execution_count": 19,
   "metadata": {
    "collapsed": true
   },
   "outputs": [],
   "source": [
    "movie_metadata = movie_metadata.withColumn(\"profit\",\n",
    "                                           (movie_metadata[\"revenue\"] - movie_metadata[\"budget\"]))"
   ]
  },
  {
   "cell_type": "code",
   "execution_count": 20,
   "metadata": {},
   "outputs": [
    {
     "name": "stdout",
     "output_type": "stream",
     "text": [
      "+------------+\n",
      "|      profit|\n",
      "+------------+\n",
      "|2.55096525E9|\n",
      "|1.82322355E9|\n",
      "|1.64503424E9|\n",
      "|1.36352883E9|\n",
      "|1.31624934E9|\n",
      "|1.29955789E9|\n",
      "|1.21699994E9|\n",
      "|1.12540365E9|\n",
      "|1.12421901E9|\n",
      "| 1.1028864E9|\n",
      "|1.08273101E9|\n",
      "|1.02488896E9|\n",
      "|   1.01544E9|\n",
      "|  9.887648E8|\n",
      "| 9.4006336E8|\n",
      "| 9.2874694E8|\n",
      "| 9.0856102E8|\n",
      "| 9.0330445E8|\n",
      "| 8.9476186E8|\n",
      "| 8.7378419E8|\n",
      "+------------+\n",
      "only showing top 20 rows\n",
      "\n"
     ]
    }
   ],
   "source": [
    "movie_metadata.select(\"profit\").sort(movie_metadata[\"profit\"].desc())\\\n",
    "                               .show()"
   ]
  },
  {
   "cell_type": "code",
   "execution_count": 21,
   "metadata": {},
   "outputs": [
    {
     "name": "stdout",
     "output_type": "stream",
     "text": [
      "root\n",
      " |-- adult: string (nullable = true)\n",
      " |-- budget: float (nullable = true)\n",
      " |-- id: string (nullable = true)\n",
      " |-- original_language: string (nullable = true)\n",
      " |-- original_title: string (nullable = true)\n",
      " |-- popularity: float (nullable = true)\n",
      " |-- release_date: string (nullable = true)\n",
      " |-- revenue: float (nullable = true)\n",
      " |-- runtime: string (nullable = true)\n",
      " |-- status: string (nullable = true)\n",
      " |-- title: string (nullable = true)\n",
      " |-- video: string (nullable = true)\n",
      " |-- vote_average: float (nullable = true)\n",
      " |-- vote_count: string (nullable = true)\n",
      " |-- profit: float (nullable = true)\n",
      "\n"
     ]
    }
   ],
   "source": [
    "movie_metadata.printSchema()"
   ]
  },
  {
   "cell_type": "code",
   "execution_count": 22,
   "metadata": {
    "collapsed": true
   },
   "outputs": [],
   "source": [
    "from pyspark.sql.functions import udf"
   ]
  },
  {
   "cell_type": "markdown",
   "metadata": {},
   "source": [
    "#### We are spliting the date column and from here we will take only year and save it in another column."
   ]
  },
  {
   "cell_type": "code",
   "execution_count": 23,
   "metadata": {
    "collapsed": true
   },
   "outputs": [],
   "source": [
    "year_extract_udf = udf(lambda date: date.split('-')[0])\n",
    "\n",
    "movie_metadata = movie_metadata.withColumn(\n",
    "                    \"release_year\",\n",
    "                    year_extract_udf(movie_metadata.release_date)\n",
    ")"
   ]
  },
  {
   "cell_type": "markdown",
   "metadata": {},
   "source": [
    "#### Drop the date column"
   ]
  },
  {
   "cell_type": "code",
   "execution_count": 24,
   "metadata": {
    "collapsed": true
   },
   "outputs": [],
   "source": [
    "movie_metadata =movie_metadata.drop(\"release_date\")"
   ]
  },
  {
   "cell_type": "code",
   "execution_count": 25,
   "metadata": {},
   "outputs": [
    {
     "data": {
      "text/plain": [
       "['adult',\n",
       " 'budget',\n",
       " 'id',\n",
       " 'original_language',\n",
       " 'original_title',\n",
       " 'popularity',\n",
       " 'revenue',\n",
       " 'runtime',\n",
       " 'status',\n",
       " 'title',\n",
       " 'video',\n",
       " 'vote_average',\n",
       " 'vote_count',\n",
       " 'profit',\n",
       " 'release_year']"
      ]
     },
     "execution_count": 25,
     "metadata": {},
     "output_type": "execute_result"
    }
   ],
   "source": [
    "movie_metadata.columns"
   ]
  },
  {
   "cell_type": "markdown",
   "metadata": {},
   "source": [
    "#### Filter the dataset to movies released since 1995 "
   ]
  },
  {
   "cell_type": "code",
   "execution_count": 26,
   "metadata": {
    "collapsed": true
   },
   "outputs": [],
   "source": [
    "movies_1995 = movie_metadata.filter(movie_metadata.release_year >= 1995)"
   ]
  },
  {
   "cell_type": "code",
   "execution_count": 27,
   "metadata": {},
   "outputs": [
    {
     "data": {
      "text/plain": [
       "3674"
      ]
     },
     "execution_count": 27,
     "metadata": {},
     "output_type": "execute_result"
    }
   ],
   "source": [
    "movies_1995.count()"
   ]
  },
  {
   "cell_type": "markdown",
   "metadata": {},
   "source": [
    "#### Check the number of distinct languages in this filtered dataset"
   ]
  },
  {
   "cell_type": "code",
   "execution_count": 28,
   "metadata": {},
   "outputs": [
    {
     "data": {
      "text/plain": [
       "38"
      ]
     },
     "execution_count": 28,
     "metadata": {},
     "output_type": "execute_result"
    }
   ],
   "source": [
    "movies_1995.select(movies_1995.original_language)\\\n",
    "       .distinct()\\\n",
    "       .count()"
   ]
  },
  {
   "cell_type": "markdown",
   "metadata": {},
   "source": [
    "#### Check average popularity and profits for movies in each language"
   ]
  },
  {
   "cell_type": "code",
   "execution_count": 29,
   "metadata": {
    "collapsed": true
   },
   "outputs": [],
   "source": [
    "movies_1995 = movies_1995.groupBy(\"original_language\")\\\n",
    "                         .agg({\"popularity\": \"avg\",\n",
    "                               \"profit\": \"avg\"\n",
    "                              })"
   ]
  },
  {
   "cell_type": "code",
   "execution_count": 30,
   "metadata": {
    "collapsed": true
   },
   "outputs": [],
   "source": [
    "movies_1995 =movies_1995.withColumnRenamed(\"avg(popularity)\", \"popularity\")\\\n",
    "                        .withColumnRenamed(\"avg(profit)\", \"profit\")"
   ]
  },
  {
   "cell_type": "markdown",
   "metadata": {},
   "source": [
    "#### How popular and profitable are movies in each language?\n",
    "* English, German, Spanish films are popular and profitable\n",
    "* Vietnamese films are neither profitable nor popular\n",
    "* Romanian films are mildly popular but unprofitable"
   ]
  },
  {
   "cell_type": "code",
   "execution_count": 31,
   "metadata": {},
   "outputs": [
    {
     "name": "stdout",
     "output_type": "stream",
     "text": [
      "+-----------------+-------------------+--------------------+\n",
      "|original_language|         popularity|              profit|\n",
      "+-----------------+-------------------+--------------------+\n",
      "|               en| 11.186577659240745| 7.346751861813618E7|\n",
      "|               vi| 0.0445609986782074|           -661000.0|\n",
      "|               nb|  6.097683906555176|            659678.0|\n",
      "|               ro|  3.927061289548874|           -909612.5|\n",
      "|               ur|0.16696199774742126|            938650.0|\n",
      "|               pl|  5.014954090118408|          5572534.75|\n",
      "|               cn|  6.368948727846146|       1.644614425E7|\n",
      "|               pt|  4.732584699988365|   4892234.833333333|\n",
      "|               ko|  6.297175228595734|1.9510993916666668E7|\n",
      "|               mr| 0.4464539885520935|           2900000.0|\n",
      "|               sr| 0.6386486490567526|  -91267.33333333333|\n",
      "|               tr| 3.1493526299794516|   5093333.333333333|\n",
      "|               de|  7.280842576708112| 2.185576342857143E7|\n",
      "|               is| 2.8614509105682373|                 1.0|\n",
      "|               es|    8.4552802835192|1.4337702971428571E7|\n",
      "|               it|   7.91468448638916|       1.385168335E7|\n",
      "|               af|  6.081201076507568|           6879971.0|\n",
      "|               kn| 0.4495820105075836|             91000.0|\n",
      "|               te|  4.149004198610783|       3.963062125E7|\n",
      "|               sv|  5.104215621948242|2.5934278166666668E7|\n",
      "+-----------------+-------------------+--------------------+\n",
      "only showing top 20 rows\n",
      "\n"
     ]
    }
   ],
   "source": [
    "movies_1995.show()"
   ]
  },
  {
   "cell_type": "markdown",
   "metadata": {},
   "source": [
    "#### Define your own metric to calculate how \"good\" a movie is\n",
    "We scale the popularity and profitabiltiy values"
   ]
  },
  {
   "cell_type": "code",
   "execution_count": 32,
   "metadata": {
    "collapsed": true
   },
   "outputs": [],
   "source": [
    "weight_popularity = 10\n",
    "weight_profit=0.000001"
   ]
  },
  {
   "cell_type": "code",
   "execution_count": 33,
   "metadata": {
    "collapsed": true
   },
   "outputs": [],
   "source": [
    "movies = movies_1995.withColumn(\"score\",\n",
    "                                    (movies_1995.popularity * weight_popularity + \\\n",
    "                                     movies_1995.profit * weight_profit))"
   ]
  },
  {
   "cell_type": "code",
   "execution_count": 34,
   "metadata": {},
   "outputs": [
    {
     "name": "stdout",
     "output_type": "stream",
     "text": [
      "+-----------------+-------------------+--------------------+--------------------+\n",
      "|original_language|         popularity|              profit|               score|\n",
      "+-----------------+-------------------+--------------------+--------------------+\n",
      "|               en| 11.186577659240745| 7.346751861813618E7|  185.33329521054364|\n",
      "|               vi| 0.0445609986782074|           -661000.0|-0.21539001321792595|\n",
      "|               nb|  6.097683906555176|            659678.0|   61.63651706555176|\n",
      "|               ro|  3.927061289548874|           -909612.5|   38.36100039548874|\n",
      "|               ur|0.16696199774742126|            938650.0|  2.6082699774742126|\n",
      "|               pl|  5.014954090118408|          5572534.75|  55.722075651184085|\n",
      "|               cn|  6.368948727846146|       1.644614425E7|   80.13563152846146|\n",
      "|               pt|  4.732584699988365|   4892234.833333333|  52.218081833216985|\n",
      "|               ko|  6.297175228595734|1.9510993916666668E7|     82.482746202624|\n",
      "|               mr| 0.4464539885520935|           2900000.0|   7.364539885520935|\n",
      "|               sr| 0.6386486490567526|  -91267.33333333333|   6.295219157234192|\n",
      "|               tr| 3.1493526299794516|   5093333.333333333|   36.58685963312785|\n",
      "|               de|  7.280842576708112| 2.185576342857143E7|   94.66418919565254|\n",
      "|               is| 2.8614509105682373|                 1.0|  28.614510105682374|\n",
      "|               es|    8.4552802835192|1.4337702971428571E7|   98.89050580662057|\n",
      "|               it|   7.91468448638916|       1.385168335E7|    92.9985282138916|\n",
      "|               af|  6.081201076507568|           6879971.0|   67.69198176507568|\n",
      "|               kn| 0.4495820105075836|             91000.0|   4.586820105075836|\n",
      "|               te|  4.149004198610783|       3.963062125E7|   81.12066323610782|\n",
      "|               sv|  5.104215621948242|2.5934278166666668E7|    76.9764343861491|\n",
      "+-----------------+-------------------+--------------------+--------------------+\n",
      "only showing top 20 rows\n",
      "\n"
     ]
    }
   ],
   "source": [
    "movies.show()"
   ]
  },
  {
   "cell_type": "markdown",
   "metadata": {},
   "source": [
    "#### We are interested in movies with a score greater than 50\n",
    "English, Japanese and Chinese movies top our list"
   ]
  },
  {
   "cell_type": "code",
   "execution_count": 35,
   "metadata": {},
   "outputs": [
    {
     "name": "stdout",
     "output_type": "stream",
     "text": [
      "+-----------------+------------------+--------------------+------------------+\n",
      "|original_language|        popularity|              profit|             score|\n",
      "+-----------------+------------------+--------------------+------------------+\n",
      "|               en|11.186577659240745| 7.346751861813618E7|185.33329521054364|\n",
      "|               ja|  9.34331934928894|       4.904474252E7|142.47793601288942|\n",
      "|               zh| 6.719967931509018|      7.2416313125E7|139.61599244009017|\n",
      "|               es|   8.4552802835192|1.4337702971428571E7| 98.89050580662057|\n",
      "|               th|  8.77933645248413|        1.08011215E7|  98.5944860248413|\n",
      "|               de| 7.280842576708112| 2.185576342857143E7| 94.66418919565254|\n",
      "|               da|  7.78316912651062|        1.64826483E7|  94.3143395651062|\n",
      "|               it|  7.91468448638916|       1.385168335E7|  92.9985282138916|\n",
      "|               id| 8.445611794789633|  192323.66666666666|   84.648441614563|\n",
      "|               fr| 7.134752727933784|1.2602574537313433E7| 83.95010181665127|\n",
      "|               ko| 6.297175228595734|1.9510993916666668E7|   82.482746202624|\n",
      "|               te| 4.149004198610783|       3.963062125E7| 81.12066323610782|\n",
      "|               cn| 6.368948727846146|       1.644614425E7| 80.13563152846146|\n",
      "|               sv| 5.104215621948242|2.5934278166666668E7|  76.9764343861491|\n",
      "|               xx| 6.583427906036377|              1.03E7| 76.13427906036377|\n",
      "+-----------------+------------------+--------------------+------------------+\n",
      "only showing top 15 rows\n",
      "\n"
     ]
    }
   ],
   "source": [
    "movies = movies.filter(movies.score > 50)\\\n",
    "                   .sort(movies.score.desc())\n",
    "    \n",
    "movies.show(15)"
   ]
  },
  {
   "cell_type": "code",
   "execution_count": 36,
   "metadata": {
    "collapsed": true
   },
   "outputs": [],
   "source": [
    "from pyspark.sql.functions import broadcast"
   ]
  },
  {
   "cell_type": "code",
   "execution_count": 37,
   "metadata": {},
   "outputs": [
    {
     "data": {
      "text/plain": [
       "(1999999, 4981)"
      ]
     },
     "execution_count": 37,
     "metadata": {},
     "output_type": "execute_result"
    }
   ],
   "source": [
    "movie_ratings.count(),movie_metadata.count()"
   ]
  },
  {
   "cell_type": "markdown",
   "metadata": {},
   "source": [
    "### Broadcast & Join\n",
    "\n",
    "* Broadcast the smaller dataframe so it is available on all cluster machines\n",
    "* The data should be small enough so it is held in memory\n",
    "* All nodes in the cluster distribute the data as fast as they can so overall computation is faster"
   ]
  },
  {
   "cell_type": "code",
   "execution_count": 38,
   "metadata": {
    "collapsed": true
   },
   "outputs": [],
   "source": [
    "movies_joined = movie_ratings.select('movieId',\n",
    "                                     'rating')\\\n",
    "                             .join(broadcast(movie_metadata),\n",
    "                                   movie_ratings.movieId == movie_metadata.id, 'inner')"
   ]
  },
  {
   "cell_type": "code",
   "execution_count": 39,
   "metadata": {},
   "outputs": [
    {
     "data": {
      "text/plain": [
       "['movieId',\n",
       " 'rating',\n",
       " 'adult',\n",
       " 'budget',\n",
       " 'id',\n",
       " 'original_language',\n",
       " 'original_title',\n",
       " 'popularity',\n",
       " 'revenue',\n",
       " 'runtime',\n",
       " 'status',\n",
       " 'title',\n",
       " 'video',\n",
       " 'vote_average',\n",
       " 'vote_count',\n",
       " 'profit',\n",
       " 'release_year']"
      ]
     },
     "execution_count": 39,
     "metadata": {},
     "output_type": "execute_result"
    }
   ],
   "source": [
    "movies_joined.columns"
   ]
  },
  {
   "cell_type": "code",
   "execution_count": 40,
   "metadata": {},
   "outputs": [
    {
     "data": {
      "text/plain": [
       "DataFrame[movieId: string, rating: string, original_language: string, title: string]"
      ]
     },
     "execution_count": 40,
     "metadata": {},
     "output_type": "execute_result"
    }
   ],
   "source": [
    "movies_joined = movies_joined.drop(\n",
    "                                     'adult',\n",
    "                                     'id',\n",
    "                                     'budget',\n",
    "                                     'original_title',\n",
    "                                     'popularity',\n",
    "                                     'revenue',\n",
    "                                     'runtime',\n",
    "                                     'status',\n",
    "                                     'video',\n",
    "                                     'vote_average',\n",
    "                                     'vote_count',\n",
    "                                     'profit',\n",
    "                                     'release_year')\n",
    "movies_joined"
   ]
  },
  {
   "cell_type": "code",
   "execution_count": 41,
   "metadata": {},
   "outputs": [
    {
     "name": "stdout",
     "output_type": "stream",
     "text": [
      "+-------+------+-----------------+------------------------------------------+\n",
      "|movieId|rating|original_language|title                                     |\n",
      "+-------+------+-----------------+------------------------------------------+\n",
      "|858    |5.0   |en               |Sleepless in Seattle                      |\n",
      "|1246   |5.0   |en               |Rocky Balboa                              |\n",
      "|5      |3.0   |en               |Four Rooms                                |\n",
      "|25     |3.0   |en               |Jarhead                                   |\n",
      "|58     |3.0   |en               |Pirates of the Caribbean: Dead Man's Chest|\n",
      "|64     |4.0   |es               |Talk to Her                               |\n",
      "|79     |4.0   |zh               |Hero                                      |\n",
      "|141    |3.0   |en               |Donnie Darko                              |\n",
      "|339    |5.0   |en               |Night on Earth                            |\n",
      "|377    |4.0   |en               |A Nightmare on Elm Street                 |\n",
      "|605    |4.0   |en               |The Matrix Revolutions                    |\n",
      "|628    |4.0   |en               |Interview with the Vampire                |\n",
      "|762    |3.0   |en               |Monty Python and the Holy Grail           |\n",
      "|786    |1.0   |en               |Almost Famous                             |\n",
      "|788    |1.0   |en               |Mrs. Doubtfire                            |\n",
      "|500    |2.0   |en               |Reservoir Dogs                            |\n",
      "|858    |4.0   |en               |Sleepless in Seattle                      |\n",
      "|223    |4.0   |en               |Rebecca                                   |\n",
      "|415    |4.0   |en               |Batman & Robin                            |\n",
      "|1422   |4.0   |en               |The Departed                              |\n",
      "+-------+------+-----------------+------------------------------------------+\n",
      "only showing top 20 rows\n",
      "\n"
     ]
    }
   ],
   "source": [
    "movies_joined.show(truncate = False)"
   ]
  },
  {
   "cell_type": "code",
   "execution_count": 42,
   "metadata": {},
   "outputs": [
    {
     "name": "stdout",
     "output_type": "stream",
     "text": [
      "+-------+------------------+------------------+\n",
      "|movieID|             title|       avg(rating)|\n",
      "+-------+------------------+------------------+\n",
      "|   1619|The Way of the Gun|3.4446952595936793|\n",
      "|   3062|       42nd Street|3.9110576923076925|\n",
      "|    433|      Mary Poppins|2.8247422680412373|\n",
      "|     90| Beverly Hills Cop|               3.0|\n",
      "|    580| Jaws: The Revenge|              3.32|\n",
      "|    414|    Batman Forever|2.5705128205128207|\n",
      "|     55|     Amores perros|3.1587301587301586|\n",
      "|   3309|    Mildred Pierce|3.2142857142857144|\n",
      "|   2334|            Taxi 3|3.0944444444444446|\n",
      "|    179|   The Interpreter|2.7252747252747254|\n",
      "|   5902|  A Bridge Too Far|3.8642045454545455|\n",
      "|    613|          Downfall| 3.646511627906977|\n",
      "|   2082|         Halloween|2.8169533169533167|\n",
      "|  26142|        The Doctor|3.5833333333333335|\n",
      "|   8998|Friends with Money|3.9722222222222223|\n",
      "|   2161|  Fantastic Voyage|3.5329608938547485|\n",
      "|   3536|             U-571|3.5042735042735043|\n",
      "|   8852|Prince of Darkness|3.2142857142857144|\n",
      "|    941|     Lethal Weapon| 3.539772727272727|\n",
      "|   2185|       Big Trouble|3.3857142857142857|\n",
      "+-------+------------------+------------------+\n",
      "only showing top 20 rows\n",
      "\n"
     ]
    }
   ],
   "source": [
    "movies_joined.groupBy([\"movieID\", \"title\"])\\\n",
    "             .agg({\"rating\": \"avg\"}).show()"
   ]
  },
  {
   "cell_type": "code",
   "execution_count": 43,
   "metadata": {},
   "outputs": [
    {
     "name": "stdout",
     "output_type": "stream",
     "text": [
      "+-------+------------------+\n",
      "|summary|            rating|\n",
      "+-------+------------------+\n",
      "|  count|            377149|\n",
      "|   mean|3.4989009648706477|\n",
      "| stddev|1.0625113046920454|\n",
      "|    min|               0.5|\n",
      "|    max|               5.0|\n",
      "+-------+------------------+\n",
      "\n"
     ]
    }
   ],
   "source": [
    "movies_joined.select(\"rating\").describe().show()"
   ]
  },
  {
   "cell_type": "markdown",
   "metadata": {},
   "source": [
    "### Accumulators\n",
    "* Shared variables which are updated by processes running across multiple nodes"
   ]
  },
  {
   "cell_type": "code",
   "execution_count": 44,
   "metadata": {
    "collapsed": true
   },
   "outputs": [],
   "source": [
    "terrible_count = spark.sparkContext.accumulator(0)\n",
    "subpar_count = spark.sparkContext.accumulator(0)\n",
    "average_count = spark.sparkContext.accumulator(0)\n",
    "good_count = spark.sparkContext.accumulator(0)"
   ]
  },
  {
   "cell_type": "markdown",
   "metadata": {},
   "source": [
    "#### Get movie count by ratings"
   ]
  },
  {
   "cell_type": "code",
   "execution_count": 45,
   "metadata": {
    "collapsed": true
   },
   "outputs": [],
   "source": [
    "def count_movie_by_rating(row):\n",
    "    rating = float(row.rating)\n",
    "    \n",
    "    if (rating <= 2.0 ):\n",
    "        terrible_count.add(1)\n",
    "    elif (rating <= 3.0 and rating > 2.0 ):\n",
    "        subpar_count.add(1)\n",
    "    elif (rating <= 4.0 and rating > 3.0 ):\n",
    "        average_count.add(1)\n",
    "    elif (rating > 4.0) :\n",
    "        good_count.add(1)"
   ]
  },
  {
   "cell_type": "code",
   "execution_count": 46,
   "metadata": {
    "collapsed": true
   },
   "outputs": [],
   "source": [
    "movies_joined.foreach(lambda x: count_movie_by_rating(x))"
   ]
  },
  {
   "cell_type": "code",
   "execution_count": 47,
   "metadata": {},
   "outputs": [
    {
     "name": "stdout",
     "output_type": "stream",
     "text": [
      "Terrible movies:  51857\n",
      "Sub-par movies:  107724\n",
      "Average movies:  137547\n",
      "Good movies:  80021\n"
     ]
    }
   ],
   "source": [
    "print(\"Terrible movies: \", terrible_count.value)\n",
    "print(\"Sub-par movies: \", subpar_count.value)\n",
    "print(\"Average movies: \", average_count.value)\n",
    "print(\"Good movies: \", good_count.value)"
   ]
  },
  {
   "cell_type": "markdown",
   "metadata": {},
   "source": [
    "### Save the dataframe to a file"
   ]
  },
  {
   "cell_type": "markdown",
   "metadata": {},
   "source": [
    "#### Save to a CSV file\n",
    "Saves the data into a directory. You could also give a path in HDFS"
   ]
  },
  {
   "cell_type": "code",
   "execution_count": 48,
   "metadata": {
    "collapsed": true
   },
   "outputs": [],
   "source": [
    "movies_1995.write\\\n",
    "           .option(\"header\",\"true\")\\\n",
    "           .csv(\"movies_1995_csv\")"
   ]
  },
  {
   "cell_type": "markdown",
   "metadata": {},
   "source": [
    "#### Coalesce data into one file\n",
    "Data from all partitions will coalesce into a single list"
   ]
  },
  {
   "cell_type": "code",
   "execution_count": 49,
   "metadata": {
    "collapsed": true
   },
   "outputs": [],
   "source": [
    "movies_1995.coalesce(1)\\\n",
    "           .write\\\n",
    "           .option(\"header\",\"true\")\\\n",
    "           .csv(\"movies_1995_coalesce_csv\")"
   ]
  },
  {
   "cell_type": "markdown",
   "metadata": {},
   "source": [
    "#### Save data as a JSON file"
   ]
  },
  {
   "cell_type": "code",
   "execution_count": 50,
   "metadata": {
    "collapsed": true
   },
   "outputs": [],
   "source": [
    "movies_1995.coalesce(1)\\\n",
    "           .write\\\n",
    "           .json(\"movie_overall_json\")"
   ]
  },
  {
   "cell_type": "code",
   "execution_count": null,
   "metadata": {
    "collapsed": true
   },
   "outputs": [],
   "source": []
  },
  {
   "cell_type": "code",
   "execution_count": null,
   "metadata": {
    "collapsed": true
   },
   "outputs": [],
   "source": []
  },
  {
   "cell_type": "code",
   "execution_count": null,
   "metadata": {
    "collapsed": true
   },
   "outputs": [],
   "source": []
  },
  {
   "cell_type": "code",
   "execution_count": null,
   "metadata": {
    "collapsed": true
   },
   "outputs": [],
   "source": []
  },
  {
   "cell_type": "code",
   "execution_count": null,
   "metadata": {
    "collapsed": true
   },
   "outputs": [],
   "source": []
  },
  {
   "cell_type": "code",
   "execution_count": null,
   "metadata": {
    "collapsed": true
   },
   "outputs": [],
   "source": []
  },
  {
   "cell_type": "code",
   "execution_count": null,
   "metadata": {
    "collapsed": true
   },
   "outputs": [],
   "source": []
  },
  {
   "cell_type": "code",
   "execution_count": null,
   "metadata": {
    "collapsed": true
   },
   "outputs": [],
   "source": []
  },
  {
   "cell_type": "code",
   "execution_count": null,
   "metadata": {
    "collapsed": true
   },
   "outputs": [],
   "source": []
  }
 ],
 "metadata": {
  "kernelspec": {
   "display_name": "Python 3",
   "language": "python",
   "name": "python3"
  },
  "language_info": {
   "codemirror_mode": {
    "name": "ipython",
    "version": 3
   },
   "file_extension": ".py",
   "mimetype": "text/x-python",
   "name": "python",
   "nbconvert_exporter": "python",
   "pygments_lexer": "ipython3",
   "version": "3.6.3"
  }
 },
 "nbformat": 4,
 "nbformat_minor": 2
}
